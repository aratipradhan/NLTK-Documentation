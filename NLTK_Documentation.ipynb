{
 "cells": [
  {
   "cell_type": "markdown",
   "id": "9f1fe5e2-20c2-4500-9ebd-b4fb09cff46b",
   "metadata": {},
   "source": [
    "# NLTK"
   ]
  },
  {
   "cell_type": "raw",
   "id": "0a88637d-0406-4474-8683-b28fcf0fd17e",
   "metadata": {},
   "source": [
    "The Natural Language Toolkit (NLTK) is a popular library in Python for working with human language data, widely used for natural language processing (NLP) tasks. It provides easy-to-use interfaces for numerous corpora and lexical resources like WordNet, along with a suite of text processing libraries for classification, tokenization, stemming, tagging, parsing, and more ."
   ]
  },
  {
   "cell_type": "markdown",
   "id": "789dc688-6886-47a6-9cf8-0665f8d8064c",
   "metadata": {},
   "source": [
    "# Sample Useage for Tokenize"
   ]
  },
  {
   "cell_type": "markdown",
   "id": "184fdd8d-3ff7-4923-8a1a-0cf4cc8efe1a",
   "metadata": {},
   "source": [
    "# Regression Test : NLTKWordTokenizer"
   ]
  },
  {
   "cell_type": "code",
   "execution_count": 1,
   "id": "03f01b74-1e92-4227-a40a-f219a2cf641d",
   "metadata": {},
   "outputs": [],
   "source": [
    "from nltk.tokenize import word_tokenize"
   ]
  },
  {
   "cell_type": "code",
   "execution_count": 2,
   "id": "07ae3554-b0a1-491a-af7b-fb5e61c26db0",
   "metadata": {},
   "outputs": [],
   "source": [
    "s1 = \"Natural language processing allows computers to understand and generate human language, bridging the gap between technology and communication.\""
   ]
  },
  {
   "cell_type": "code",
   "execution_count": 3,
   "id": "96379683-f17f-45b7-a8e6-47dcb2e8ca14",
   "metadata": {},
   "outputs": [
    {
     "data": {
      "text/plain": [
       "['Natural',\n",
       " 'language',\n",
       " 'processing',\n",
       " 'allows',\n",
       " 'computers',\n",
       " 'to',\n",
       " 'understand',\n",
       " 'and',\n",
       " 'generate',\n",
       " 'human',\n",
       " 'language',\n",
       " ',',\n",
       " 'bridging',\n",
       " 'the',\n",
       " 'gap',\n",
       " 'between',\n",
       " 'technology',\n",
       " 'and',\n",
       " 'communication',\n",
       " '.']"
      ]
     },
     "execution_count": 3,
     "metadata": {},
     "output_type": "execute_result"
    }
   ],
   "source": [
    "word_tokenize(s1)"
   ]
  },
  {
   "cell_type": "code",
   "execution_count": 4,
   "id": "970bd226-8bbc-4c4e-81c7-46902043058f",
   "metadata": {},
   "outputs": [],
   "source": [
    "s2 = \"Life teaches us that every setback is an opportunity to learn, grow, and become stronger than we were before.\""
   ]
  },
  {
   "cell_type": "code",
   "execution_count": 5,
   "id": "0b4f45c3-bea9-4b77-9593-607b4e78c65e",
   "metadata": {},
   "outputs": [
    {
     "data": {
      "text/plain": [
       "['Life',\n",
       " 'teaches',\n",
       " 'us',\n",
       " 'that',\n",
       " 'every',\n",
       " 'setback',\n",
       " 'is',\n",
       " 'an',\n",
       " 'opportunity',\n",
       " 'to',\n",
       " 'learn',\n",
       " ',',\n",
       " 'grow',\n",
       " ',',\n",
       " 'and',\n",
       " 'become',\n",
       " 'stronger',\n",
       " 'than',\n",
       " 'we',\n",
       " 'were',\n",
       " 'before',\n",
       " '.']"
      ]
     },
     "execution_count": 5,
     "metadata": {},
     "output_type": "execute_result"
    }
   ],
   "source": [
    "word_tokenize(s2)"
   ]
  },
  {
   "cell_type": "code",
   "execution_count": 6,
   "id": "9011e2a0-11b0-4e3d-b588-f6a41bc281e9",
   "metadata": {},
   "outputs": [],
   "source": [
    "s3 = \"Motivation is the spark that ignites action, but it’s discipline that fuels the journey toward achieving your dreams.\""
   ]
  },
  {
   "cell_type": "code",
   "execution_count": 7,
   "id": "84cb1219-6c3c-4342-8e20-d98911deee4b",
   "metadata": {},
   "outputs": [
    {
     "data": {
      "text/plain": [
       "['Motivation',\n",
       " 'is',\n",
       " 'the',\n",
       " 'spark',\n",
       " 'that',\n",
       " 'ignites',\n",
       " 'action',\n",
       " ',',\n",
       " 'but',\n",
       " 'it',\n",
       " '’',\n",
       " 's',\n",
       " 'discipline',\n",
       " 'that',\n",
       " 'fuels',\n",
       " 'the',\n",
       " 'journey',\n",
       " 'toward',\n",
       " 'achieving',\n",
       " 'your',\n",
       " 'dreams',\n",
       " '.']"
      ]
     },
     "execution_count": 7,
     "metadata": {},
     "output_type": "execute_result"
    }
   ],
   "source": [
    "word_tokenize(s3)"
   ]
  },
  {
   "cell_type": "code",
   "execution_count": 8,
   "id": "ff305a58-1746-4dba-85a9-f66d8e2e7e4b",
   "metadata": {},
   "outputs": [],
   "source": [
    "s4 = \"I cannot cannot work under these conditions!\""
   ]
  },
  {
   "cell_type": "code",
   "execution_count": null,
   "id": "330ed7b2-a4f7-472a-b572-faff3c4eb54d",
   "metadata": {},
   "outputs": [],
   "source": []
  },
  {
   "cell_type": "code",
   "execution_count": null,
   "id": "693e243e-8bf0-412b-a093-44bacd06e6c5",
   "metadata": {},
   "outputs": [],
   "source": []
  },
  {
   "cell_type": "code",
   "execution_count": null,
   "id": "79205371-d509-4159-9341-0fcae61c171b",
   "metadata": {},
   "outputs": [],
   "source": []
  },
  {
   "cell_type": "code",
   "execution_count": 9,
   "id": "85162c6e-7710-45ac-9730-8d75df82532d",
   "metadata": {},
   "outputs": [],
   "source": [
    "s6 =  \"The company spent $30,000,000 last year.\""
   ]
  },
  {
   "cell_type": "code",
   "execution_count": 10,
   "id": "78b4e1d7-f32d-49c8-933a-59dc020f6d06",
   "metadata": {},
   "outputs": [
    {
     "data": {
      "text/plain": [
       "['The', 'company', 'spent', '$', '30,000,000', 'last', 'year', '.']"
      ]
     },
     "execution_count": 10,
     "metadata": {},
     "output_type": "execute_result"
    }
   ],
   "source": [
    "word_tokenize(s6)"
   ]
  },
  {
   "cell_type": "markdown",
   "id": "8c28447a-0508-4f82-a151-3ba931d585cb",
   "metadata": {},
   "source": [
    "# Gathering the spans of the tokenized strings."
   ]
  },
  {
   "cell_type": "code",
   "execution_count": 11,
   "id": "4bd0ce68-8c85-47af-9582-616f8321455f",
   "metadata": {},
   "outputs": [],
   "source": [
    "from nltk.tokenize import NLTKWordTokenizer"
   ]
  },
  {
   "cell_type": "code",
   "execution_count": 12,
   "id": "a6eaa911-71f4-4473-8a47-81f60cba148a",
   "metadata": {},
   "outputs": [],
   "source": [
    "s = '''Good muffins cost $3.88\\nin New (York).  Please (buy) me\\ntwo of them.\\n(Thanks).'''"
   ]
  },
  {
   "cell_type": "code",
   "execution_count": 13,
   "id": "2d41703c-b693-4223-b568-9b9305548699",
   "metadata": {},
   "outputs": [],
   "source": [
    "expected = [(0, 4), (5, 12), (13, 17), (18, 19), (19, 23),\n",
    "... (24, 26), (27, 30), (31, 32), (32, 36), (36, 37), (37, 38),\n",
    "... (40, 46), (47, 48), (48, 51), (51, 52), (53, 55), (56, 59),\n",
    "... (60, 62), (63, 68), (69, 70), (70, 76), (76, 77), (77, 78)]"
   ]
  },
  {
   "cell_type": "code",
   "execution_count": 14,
   "id": "29930716-e6bc-4d99-94c8-6aea29a3b010",
   "metadata": {},
   "outputs": [
    {
     "data": {
      "text/plain": [
       "True"
      ]
     },
     "execution_count": 14,
     "metadata": {},
     "output_type": "execute_result"
    }
   ],
   "source": [
    "list(NLTKWordTokenizer().span_tokenize(s)) == expected"
   ]
  },
  {
   "cell_type": "code",
   "execution_count": 15,
   "id": "1768c105-3355-4bd1-b9c5-ecb87948b49a",
   "metadata": {},
   "outputs": [],
   "source": [
    "expected = ['Good', 'muffins', 'cost', '$', '3.88', 'in',\n",
    "... 'New', '(', 'York', ')', '.', 'Please', '(', 'buy', ')',\n",
    "... 'me', 'two', 'of', 'them.', '(', 'Thanks', ')', '.']"
   ]
  },
  {
   "cell_type": "code",
   "execution_count": 16,
   "id": "8aaa782e-d2d0-408a-ab41-033b2d3931de",
   "metadata": {},
   "outputs": [
    {
     "data": {
      "text/plain": [
       "True"
      ]
     },
     "execution_count": 16,
     "metadata": {},
     "output_type": "execute_result"
    }
   ],
   "source": [
    "[s[start:end] for start, end in NLTKWordTokenizer().span_tokenize(s)] == expected"
   ]
  },
  {
   "cell_type": "code",
   "execution_count": 17,
   "id": "434994a6-86ff-4cc7-a471-c1571b88d628",
   "metadata": {},
   "outputs": [],
   "source": [
    " s = '''I said, \"I'd like to buy some ''good muffins\" which cost $3.88\\n each in New (York).\"'''"
   ]
  },
  {
   "cell_type": "code",
   "execution_count": 18,
   "id": "b76e2404-e670-4b35-ab3d-33f04ac508f5",
   "metadata": {},
   "outputs": [],
   "source": [
    "expected = [(0, 1), (2, 6), (6, 7), (8, 9), (9, 10), (10, 12),\n",
    "... (13, 17), (18, 20), (21, 24), (25, 29), (30, 32), (32, 36),\n",
    "... (37, 44), (44, 45), (46, 51), (52, 56), (57, 58), (58, 62),\n",
    "... (64, 68), (69, 71), (72, 75), (76, 77), (77, 81), (81, 82),\n",
    "... (82, 83), (83, 84)]"
   ]
  },
  {
   "cell_type": "code",
   "execution_count": 19,
   "id": "bed4de0a-2ce4-4b78-ab3d-05febe03ad00",
   "metadata": {},
   "outputs": [
    {
     "data": {
      "text/plain": [
       "True"
      ]
     },
     "execution_count": 19,
     "metadata": {},
     "output_type": "execute_result"
    }
   ],
   "source": [
    "list(NLTKWordTokenizer().span_tokenize(s)) == expected"
   ]
  },
  {
   "cell_type": "code",
   "execution_count": 20,
   "id": "8780b8f3-3915-4b4f-a34a-e92254de1a69",
   "metadata": {},
   "outputs": [],
   "source": [
    "expected = ['I', 'said', ',', '\"', 'I', \"'d\", 'like', 'to',\n",
    "... 'buy', 'some', \"''\", \"good\", 'muffins', '\"', 'which', 'cost',\n",
    "... '$', '3.88', 'each', 'in', 'New', '(', 'York', ')', '.', '\"']"
   ]
  },
  {
   "cell_type": "code",
   "execution_count": 21,
   "id": "eddbc2c5-4b3a-4161-8102-48ef4f2c2615",
   "metadata": {},
   "outputs": [
    {
     "data": {
      "text/plain": [
       "True"
      ]
     },
     "execution_count": 21,
     "metadata": {},
     "output_type": "execute_result"
    }
   ],
   "source": [
    "[s[start:end] for start, end in NLTKWordTokenizer().span_tokenize(s)] == expected"
   ]
  },
  {
   "cell_type": "markdown",
   "id": "fd885fbb-0e34-469d-8a1a-a12e11120fa6",
   "metadata": {},
   "source": [
    "# Testing treebank’s detokenizer"
   ]
  },
  {
   "cell_type": "code",
   "execution_count": 22,
   "id": "79c120b7-bbfc-4f75-b57f-1ca5968b50bd",
   "metadata": {},
   "outputs": [],
   "source": [
    "from nltk.tokenize.treebank import TreebankWordDetokenizer"
   ]
  },
  {
   "cell_type": "code",
   "execution_count": 23,
   "id": "2d875efc-e274-429d-b530-0c2378481409",
   "metadata": {},
   "outputs": [],
   "source": [
    "detokenizer = TreebankWordDetokenizer()"
   ]
  },
  {
   "cell_type": "code",
   "execution_count": 24,
   "id": "43c48822-68a8-430a-8f4c-5a93217ca34e",
   "metadata": {},
   "outputs": [
    {
     "data": {
      "text/plain": [
       "'Natural language processing allows computers to understand and generate human language, bridging the gap between technology and communication.'"
      ]
     },
     "execution_count": 24,
     "metadata": {},
     "output_type": "execute_result"
    }
   ],
   "source": [
    "detokenizer.detokenize(word_tokenize(s1))"
   ]
  },
  {
   "cell_type": "code",
   "execution_count": 25,
   "id": "1f75f274-4542-45c4-a0cb-9165d9b19956",
   "metadata": {},
   "outputs": [],
   "source": [
    "s = \"Well, we couldn't have this predictable, cliche-ridden, \\\"Touched by an Angel\\\" (a show creator John Masius worked on) wanna-be if she didn't.\""
   ]
  },
  {
   "cell_type": "code",
   "execution_count": 26,
   "id": "2dbf8d4b-c649-4f1b-b9b5-2a4746799042",
   "metadata": {},
   "outputs": [
    {
     "data": {
      "text/plain": [
       "'Well, we couldn\\'t have this predictable, cliche-ridden, \"Touched by an Angel\" (a show creator John Masius worked on) wanna-be if she didn\\'t.'"
      ]
     },
     "execution_count": 26,
     "metadata": {},
     "output_type": "execute_result"
    }
   ],
   "source": [
    "detokenizer.detokenize(word_tokenize(s))"
   ]
  },
  {
   "cell_type": "code",
   "execution_count": 27,
   "id": "6af064e0-9bf3-40a5-81e5-acf04c5fa52e",
   "metadata": {},
   "outputs": [],
   "source": [
    "s = '<A sentence> with (many) [kinds] of {parentheses}. \"Sometimes it\\'s inside (quotes)\". (\"Sometimes the otherway around\").'"
   ]
  },
  {
   "cell_type": "code",
   "execution_count": 28,
   "id": "9003021d-0b29-4c9f-894e-d400bdf98060",
   "metadata": {},
   "outputs": [
    {
     "data": {
      "text/plain": [
       "'<A sentence> with (many) [kinds] of {parentheses}. \"Sometimes it\\'s inside (quotes)\". (\"Sometimes the otherway around\").'"
      ]
     },
     "execution_count": 28,
     "metadata": {},
     "output_type": "execute_result"
    }
   ],
   "source": [
    "detokenizer.detokenize(word_tokenize(s))"
   ]
  },
  {
   "cell_type": "code",
   "execution_count": 29,
   "id": "8d53e281-edd0-48c2-8781-fed68e4e0714",
   "metadata": {},
   "outputs": [],
   "source": [
    " s = \"The company spent $30,000,000 last year.\""
   ]
  },
  {
   "cell_type": "code",
   "execution_count": 30,
   "id": "e56d8731-4b7f-4d39-95b1-ce3142e48a9e",
   "metadata": {},
   "outputs": [
    {
     "data": {
      "text/plain": [
       "'The company spent $30,000,000 last year.'"
      ]
     },
     "execution_count": 30,
     "metadata": {},
     "output_type": "execute_result"
    }
   ],
   "source": [
    "detokenizer.detokenize(word_tokenize(s))"
   ]
  },
  {
   "cell_type": "code",
   "execution_count": 31,
   "id": "a2f4c936-d52b-4c75-be66-43a9b09e8d2d",
   "metadata": {},
   "outputs": [],
   "source": [
    "s = \"I've\""
   ]
  },
  {
   "cell_type": "code",
   "execution_count": 32,
   "id": "92e5346a-559d-4be4-a4f4-576192c0b06d",
   "metadata": {},
   "outputs": [
    {
     "data": {
      "text/plain": [
       "\"I've\""
      ]
     },
     "execution_count": 32,
     "metadata": {},
     "output_type": "execute_result"
    }
   ],
   "source": [
    "detokenizer.detokenize(word_tokenize(s))"
   ]
  },
  {
   "cell_type": "code",
   "execution_count": 33,
   "id": "3507bdb0-b264-4a3a-9eed-3b4a545b37a7",
   "metadata": {},
   "outputs": [],
   "source": [
    "s = \"Don't\""
   ]
  },
  {
   "cell_type": "code",
   "execution_count": 34,
   "id": "75fbd678-bffc-46dc-ae92-0e7b7bbc7f31",
   "metadata": {},
   "outputs": [
    {
     "data": {
      "text/plain": [
       "\"Don't\""
      ]
     },
     "execution_count": 34,
     "metadata": {},
     "output_type": "execute_result"
    }
   ],
   "source": [
    "detokenizer.detokenize(word_tokenize(s))"
   ]
  },
  {
   "cell_type": "code",
   "execution_count": 35,
   "id": "eb6edb58-60ce-48fc-8331-1cce04bb0ec8",
   "metadata": {},
   "outputs": [],
   "source": [
    "s = \"I'd\""
   ]
  },
  {
   "cell_type": "code",
   "execution_count": 36,
   "id": "10576af4-e2c4-4194-95d8-23f03fbbe4fd",
   "metadata": {},
   "outputs": [
    {
     "data": {
      "text/plain": [
       "\"I'd\""
      ]
     },
     "execution_count": 36,
     "metadata": {},
     "output_type": "execute_result"
    }
   ],
   "source": [
    "detokenizer.detokenize(word_tokenize(s))"
   ]
  },
  {
   "cell_type": "markdown",
   "id": "986045a3-8d35-4641-bcfd-6df26d0eeb81",
   "metadata": {},
   "source": [
    "# Sentence tokenization in word_tokenize:"
   ]
  },
  {
   "cell_type": "code",
   "execution_count": 37,
   "id": "9e3344aa-7fe3-4ff5-b428-f75b9b86018d",
   "metadata": {},
   "outputs": [],
   "source": [
    "s7 = \"I called Dr. Jones. I called Dr. Jones.\""
   ]
  },
  {
   "cell_type": "code",
   "execution_count": 38,
   "id": "cf20e1ad-1292-4e3e-bb0d-4452e7f97c1e",
   "metadata": {},
   "outputs": [
    {
     "data": {
      "text/plain": [
       "['I', 'called', 'Dr.', 'Jones', '.', 'I', 'called', 'Dr.', 'Jones', '.']"
      ]
     },
     "execution_count": 38,
     "metadata": {},
     "output_type": "execute_result"
    }
   ],
   "source": [
    "word_tokenize(s7)"
   ]
  },
  {
   "cell_type": "code",
   "execution_count": 39,
   "id": "b5acb6fb-b0e3-44fd-a349-b7d7bfdd82e7",
   "metadata": {},
   "outputs": [],
   "source": [
    "s8 = (\"Ich muss unbedingt daran denken, Mehl, usw. fur einen \"\n",
    "...        \"Kuchen einzukaufen. Ich muss.\")"
   ]
  },
  {
   "cell_type": "code",
   "execution_count": 40,
   "id": "1f259911-cb59-4401-9e59-0f2bc8932aa4",
   "metadata": {},
   "outputs": [
    {
     "data": {
      "text/plain": [
       "['Ich',\n",
       " 'muss',\n",
       " 'unbedingt',\n",
       " 'daran',\n",
       " 'denken',\n",
       " ',',\n",
       " 'Mehl',\n",
       " ',',\n",
       " 'usw',\n",
       " '.',\n",
       " 'fur',\n",
       " 'einen',\n",
       " 'Kuchen',\n",
       " 'einzukaufen',\n",
       " '.',\n",
       " 'Ich',\n",
       " 'muss',\n",
       " '.']"
      ]
     },
     "execution_count": 40,
     "metadata": {},
     "output_type": "execute_result"
    }
   ],
   "source": [
    "word_tokenize(s8)"
   ]
  },
  {
   "cell_type": "code",
   "execution_count": 41,
   "id": "fd2e2ba6-e727-433c-a9c7-736ed682c267",
   "metadata": {},
   "outputs": [
    {
     "data": {
      "text/plain": [
       "['Ich',\n",
       " 'muss',\n",
       " 'unbedingt',\n",
       " 'daran',\n",
       " 'denken',\n",
       " ',',\n",
       " 'Mehl',\n",
       " ',',\n",
       " 'usw.',\n",
       " 'fur',\n",
       " 'einen',\n",
       " 'Kuchen',\n",
       " 'einzukaufen',\n",
       " '.',\n",
       " 'Ich',\n",
       " 'muss',\n",
       " '.']"
      ]
     },
     "execution_count": 41,
     "metadata": {},
     "output_type": "execute_result"
    }
   ],
   "source": [
    "word_tokenize(s8, 'german')"
   ]
  },
  {
   "cell_type": "markdown",
   "id": "3067de6f-1b26-4b58-af6f-4f7a01bb78d7",
   "metadata": {},
   "source": [
    "# Regression Tests: Regexp Tokenizer"
   ]
  },
  {
   "cell_type": "code",
   "execution_count": 42,
   "id": "77bf6241-9bd7-4e57-b801-5d7d7c0b91cb",
   "metadata": {},
   "outputs": [],
   "source": [
    "s = (\"Good muffins cost $3.88\\nin New York.  Please buy me\\n\"\n",
    "...      \"two of them.\\n\\nThanks.\")"
   ]
  },
  {
   "cell_type": "code",
   "execution_count": 43,
   "id": "1a937d66-5955-4553-a302-b6602bdd7a14",
   "metadata": {},
   "outputs": [],
   "source": [
    "s2 = (\"Alas, it has not rained today. When, do you think, \"\n",
    "...       \"will it rain again?\")"
   ]
  },
  {
   "cell_type": "code",
   "execution_count": 44,
   "id": "92e035d4-7895-4d66-9be1-86963fea3e34",
   "metadata": {},
   "outputs": [],
   "source": [
    "s3 = (\"<p>Although this is <b>not</b> the case here, we must \"\n",
    "...       \"not relax our vigilance!</p>\")"
   ]
  },
  {
   "cell_type": "code",
   "execution_count": 45,
   "id": "f6f788f7-52db-43f0-80cf-19e3357e0931",
   "metadata": {},
   "outputs": [],
   "source": [
    "from nltk.tokenize import regexp_tokenize"
   ]
  },
  {
   "cell_type": "code",
   "execution_count": 46,
   "id": "402e2007-bddb-4130-ac43-d2b4f4c517c0",
   "metadata": {},
   "outputs": [
    {
     "data": {
      "text/plain": [
       "[', ', '. ', ', ', ', ', '?']"
      ]
     },
     "execution_count": 46,
     "metadata": {},
     "output_type": "execute_result"
    }
   ],
   "source": [
    "regexp_tokenize(s2, r'[,\\.\\?!\"]\\s*', gaps=False)\n",
    "[', ', '. ', ', ', ', ', '?']"
   ]
  },
  {
   "cell_type": "code",
   "execution_count": 47,
   "id": "b1abb585-7bb0-49c4-bf79-1a4d59aa8f42",
   "metadata": {},
   "outputs": [
    {
     "data": {
      "text/plain": [
       "['Alas',\n",
       " 'it has not rained today',\n",
       " 'When',\n",
       " 'do you think',\n",
       " 'will it rain again']"
      ]
     },
     "execution_count": 47,
     "metadata": {},
     "output_type": "execute_result"
    }
   ],
   "source": [
    "regexp_tokenize(s2, r'[,\\.\\?!\"]\\s*', gaps=True)"
   ]
  },
  {
   "cell_type": "markdown",
   "id": "15494ffe-9cd3-4e58-a384-80e01b8e65b0",
   "metadata": {},
   "source": [
    "# Take care to avoid using capturing groups"
   ]
  },
  {
   "cell_type": "code",
   "execution_count": 48,
   "id": "8f1f724f-84b4-43c1-84b3-9cbf23279fbb",
   "metadata": {},
   "outputs": [
    {
     "data": {
      "text/plain": [
       "['<p>', '<b>', '</b>', '</p>']"
      ]
     },
     "execution_count": 48,
     "metadata": {},
     "output_type": "execute_result"
    }
   ],
   "source": [
    "regexp_tokenize(s3, r'</?[bp]>', gaps=False)"
   ]
  },
  {
   "cell_type": "code",
   "execution_count": 49,
   "id": "9817c80f-b581-48db-9a0e-0427a58cbe62",
   "metadata": {},
   "outputs": [
    {
     "data": {
      "text/plain": [
       "['<p>', '<b>', '</b>', '</p>']"
      ]
     },
     "execution_count": 49,
     "metadata": {},
     "output_type": "execute_result"
    }
   ],
   "source": [
    "regexp_tokenize(s3, r'</?(?:b|p)>', gaps=False)"
   ]
  },
  {
   "cell_type": "code",
   "execution_count": 50,
   "id": "3338450a-f9fd-4b39-8dcd-3c98f6ba7d97",
   "metadata": {},
   "outputs": [
    {
     "data": {
      "text/plain": [
       "['Although this is ',\n",
       " 'not',\n",
       " ' the case here, we must not relax our vigilance!']"
      ]
     },
     "execution_count": 50,
     "metadata": {},
     "output_type": "execute_result"
    }
   ],
   "source": [
    "regexp_tokenize(s3, r'</?(?:b|p)>', gaps=True)"
   ]
  },
  {
   "cell_type": "markdown",
   "id": "c1e821d2-eb58-4967-b8e6-2f527ae2e68e",
   "metadata": {},
   "source": [
    "# Named groups are capturing groups, and confuse the tokenizer:"
   ]
  },
  {
   "cell_type": "code",
   "execution_count": 51,
   "id": "d2517d8e-428c-460a-8408-5f5e14e620bf",
   "metadata": {},
   "outputs": [
    {
     "data": {
      "text/plain": [
       "['p', 'b', 'b', 'p']"
      ]
     },
     "execution_count": 51,
     "metadata": {},
     "output_type": "execute_result"
    }
   ],
   "source": [
    "regexp_tokenize(s3, r'</?(?P<named>b|p)>', gaps=False)"
   ]
  },
  {
   "cell_type": "code",
   "execution_count": 52,
   "id": "ed60430e-4922-4e51-a306-b5a2ac9da89b",
   "metadata": {},
   "outputs": [
    {
     "data": {
      "text/plain": [
       "['p',\n",
       " 'Although this is ',\n",
       " 'b',\n",
       " 'not',\n",
       " 'b',\n",
       " ' the case here, we must not relax our vigilance!',\n",
       " 'p']"
      ]
     },
     "execution_count": 52,
     "metadata": {},
     "output_type": "execute_result"
    }
   ],
   "source": [
    "regexp_tokenize(s3, r'</?(?P<named>b|p)>', gaps=True)"
   ]
  },
  {
   "cell_type": "markdown",
   "id": "b6552e72-2349-4087-9518-dffb3c5d1f72",
   "metadata": {},
   "source": [
    "# Make sure that nested groups don’t confuse the tokenizer:"
   ]
  },
  {
   "cell_type": "code",
   "execution_count": 53,
   "id": "2eb393f9-db68-4cbb-927c-d82075177d3f",
   "metadata": {},
   "outputs": [
    {
     "data": {
      "text/plain": [
       "['las', 'has', 'rai', 'rai']"
      ]
     },
     "execution_count": 53,
     "metadata": {},
     "output_type": "execute_result"
    }
   ],
   "source": [
    "regexp_tokenize(s2, r'(?:h|r|l)a(?:s|(?:i|n0))', gaps=False)"
   ]
  },
  {
   "cell_type": "code",
   "execution_count": 54,
   "id": "299a0603-1cc3-48ee-9118-33d205a6bee5",
   "metadata": {},
   "outputs": [
    {
     "data": {
      "text/plain": [
       "['A', ', it ', ' not ', 'ned today. When, do you think, will it ', 'n again?']"
      ]
     },
     "execution_count": 54,
     "metadata": {},
     "output_type": "execute_result"
    }
   ],
   "source": [
    "regexp_tokenize(s2, r'(?:h|r|l)a(?:s|(?:i|n0))', gaps=True)"
   ]
  },
  {
   "cell_type": "markdown",
   "id": "22959143-0b11-4ef7-b554-f46d43e07071",
   "metadata": {},
   "source": [
    "# Back-references require capturing groups, and these are not supported:"
   ]
  },
  {
   "cell_type": "code",
   "execution_count": 55,
   "id": "d2d86d5b-2b3c-4271-9dca-a44598f00f40",
   "metadata": {},
   "outputs": [
    {
     "data": {
      "text/plain": [
       "['a', 'b', 'c', 'c']"
      ]
     },
     "execution_count": 55,
     "metadata": {},
     "output_type": "execute_result"
    }
   ],
   "source": [
    "regexp_tokenize(\"aabbbcccc\", r'(.)\\1')"
   ]
  },
  {
   "cell_type": "markdown",
   "id": "f2389cd2-8d10-4114-8da3-f34afcb64951",
   "metadata": {},
   "source": [
    "# A simple sentence tokenizer ‘.(s+|$)’"
   ]
  },
  {
   "cell_type": "code",
   "execution_count": 56,
   "id": "76ceeb9c-96e5-4f10-974a-8d17f83214fa",
   "metadata": {},
   "outputs": [
    {
     "data": {
      "text/plain": [
       "['Good muffins cost $3.88\\nin New York',\n",
       " 'Please buy me\\ntwo of them',\n",
       " 'Thanks']"
      ]
     },
     "execution_count": 56,
     "metadata": {},
     "output_type": "execute_result"
    }
   ],
   "source": [
    "regexp_tokenize(s, pattern=r'\\.(?:\\s+|$)', gaps=True)"
   ]
  },
  {
   "cell_type": "markdown",
   "id": "c8d02092-5e61-4e73-a53a-b1fceba44109",
   "metadata": {},
   "source": [
    "# Regression Tests: TweetTokenizer"
   ]
  },
  {
   "cell_type": "raw",
   "id": "6ecde41e-eea9-44f5-84d3-d9887ba211dd",
   "metadata": {},
   "source": [
    "TweetTokenizer is a tokenizer specifically designed for micro-blogging tokenization tasks"
   ]
  },
  {
   "cell_type": "code",
   "execution_count": 57,
   "id": "b34b9e71-60c7-4ff7-a679-90ce462dbb9a",
   "metadata": {},
   "outputs": [],
   "source": [
    "from nltk.tokenize import TweetTokenizer"
   ]
  },
  {
   "cell_type": "code",
   "execution_count": 58,
   "id": "3aaed28b-24d8-4606-a645-db7e3fa62144",
   "metadata": {},
   "outputs": [],
   "source": [
    "tknzr = TweetTokenizer()"
   ]
  },
  {
   "cell_type": "code",
   "execution_count": 59,
   "id": "f9460a56-0b22-49c3-84ca-144a6a9de6d6",
   "metadata": {},
   "outputs": [],
   "source": [
    "s0 = \"This is a cooool #dummysmiley: :-) :-P <3 and some arrows < > -> <--\""
   ]
  },
  {
   "cell_type": "code",
   "execution_count": 60,
   "id": "d8482c79-22e3-4ce3-a49f-9821237ca63f",
   "metadata": {},
   "outputs": [
    {
     "data": {
      "text/plain": [
       "['This',\n",
       " 'is',\n",
       " 'a',\n",
       " 'cooool',\n",
       " '#dummysmiley',\n",
       " ':',\n",
       " ':-)',\n",
       " ':-P',\n",
       " '<3',\n",
       " 'and',\n",
       " 'some',\n",
       " 'arrows',\n",
       " '<',\n",
       " '>',\n",
       " '->',\n",
       " '<--']"
      ]
     },
     "execution_count": 60,
     "metadata": {},
     "output_type": "execute_result"
    }
   ],
   "source": [
    "tknzr.tokenize(s0)"
   ]
  },
  {
   "cell_type": "code",
   "execution_count": 61,
   "id": "0fa7803d-f9c5-4532-9f32-503be2286503",
   "metadata": {},
   "outputs": [],
   "source": [
    "s1 = \"@Joyster2012 @CathStaincliffe Good for you, girl!! Best wishes :-)\""
   ]
  },
  {
   "cell_type": "code",
   "execution_count": 62,
   "id": "3df3386a-4417-49c5-bc40-6e2dbebffe2c",
   "metadata": {},
   "outputs": [
    {
     "data": {
      "text/plain": [
       "['@Joyster2012',\n",
       " '@CathStaincliffe',\n",
       " 'Good',\n",
       " 'for',\n",
       " 'you',\n",
       " ',',\n",
       " 'girl',\n",
       " '!',\n",
       " '!',\n",
       " 'Best',\n",
       " 'wishes',\n",
       " ':-)']"
      ]
     },
     "execution_count": 62,
     "metadata": {},
     "output_type": "execute_result"
    }
   ],
   "source": [
    "tknzr.tokenize(s1)"
   ]
  },
  {
   "cell_type": "code",
   "execution_count": 63,
   "id": "f4809fa8-8153-48a7-ac06-251991f272be",
   "metadata": {},
   "outputs": [],
   "source": [
    "s2 = \"3Points for #DreamTeam Gooo BAILEY! :) #PBB737Gold @PBBabscbn\""
   ]
  },
  {
   "cell_type": "code",
   "execution_count": 64,
   "id": "c9bc4bda-8a9c-42d8-b0fe-720f86d68690",
   "metadata": {},
   "outputs": [
    {
     "data": {
      "text/plain": [
       "['3Points',\n",
       " 'for',\n",
       " '#DreamTeam',\n",
       " 'Gooo',\n",
       " 'BAILEY',\n",
       " '!',\n",
       " ':)',\n",
       " '#PBB737Gold',\n",
       " '@PBBabscbn']"
      ]
     },
     "execution_count": 64,
     "metadata": {},
     "output_type": "execute_result"
    }
   ],
   "source": [
    "tknzr.tokenize(s2)"
   ]
  },
  {
   "cell_type": "code",
   "execution_count": 65,
   "id": "80080629-e849-411c-a625-628340b1b193",
   "metadata": {},
   "outputs": [],
   "source": [
    "s3 = \"@Insanomania They do... Their mentality doesn't :(\""
   ]
  },
  {
   "cell_type": "code",
   "execution_count": 66,
   "id": "4578aa88-0d03-46f7-80b3-7c7c8b6baa23",
   "metadata": {},
   "outputs": [
    {
     "data": {
      "text/plain": [
       "['@Insanomania', 'They', 'do', '...', 'Their', 'mentality', \"doesn't\", ':(']"
      ]
     },
     "execution_count": 66,
     "metadata": {},
     "output_type": "execute_result"
    }
   ],
   "source": [
    "tknzr.tokenize(s3)"
   ]
  },
  {
   "cell_type": "code",
   "execution_count": 67,
   "id": "499bac16-7cb1-48f0-b863-34fa27b851fd",
   "metadata": {},
   "outputs": [],
   "source": [
    "s4 = \"RT @facugambande: Ya por arrancar a grabar !!! #TirenTirenTiren vamoo !!\""
   ]
  },
  {
   "cell_type": "code",
   "execution_count": 68,
   "id": "2b23ef91-5c38-4fee-927c-2d69ddee911c",
   "metadata": {},
   "outputs": [
    {
     "data": {
      "text/plain": [
       "['RT',\n",
       " '@facugambande',\n",
       " ':',\n",
       " 'Ya',\n",
       " 'por',\n",
       " 'arrancar',\n",
       " 'a',\n",
       " 'grabar',\n",
       " '!',\n",
       " '!',\n",
       " '!',\n",
       " '#TirenTirenTiren',\n",
       " 'vamoo',\n",
       " '!',\n",
       " '!']"
      ]
     },
     "execution_count": 68,
     "metadata": {},
     "output_type": "execute_result"
    }
   ],
   "source": [
    "tknzr.tokenize(s4)"
   ]
  },
  {
   "cell_type": "code",
   "execution_count": 69,
   "id": "e5cf1550-50c1-4b87-8b14-4c0275e6afe9",
   "metadata": {},
   "outputs": [],
   "source": [
    "tknzr = TweetTokenizer(reduce_len=True)"
   ]
  },
  {
   "cell_type": "code",
   "execution_count": 70,
   "id": "b3753a68-091d-453c-b99d-2ed1718fa885",
   "metadata": {},
   "outputs": [],
   "source": [
    "s5 = \"@crushinghes the summer holidays are great but I'm so bored already :(\""
   ]
  },
  {
   "cell_type": "code",
   "execution_count": 71,
   "id": "57ccc07c-bbfd-4f80-92c7-4eb9d157fcc2",
   "metadata": {},
   "outputs": [
    {
     "data": {
      "text/plain": [
       "['@crushinghes',\n",
       " 'the',\n",
       " 'summer',\n",
       " 'holidays',\n",
       " 'are',\n",
       " 'great',\n",
       " 'but',\n",
       " \"I'm\",\n",
       " 'so',\n",
       " 'bored',\n",
       " 'already',\n",
       " ':(']"
      ]
     },
     "execution_count": 71,
     "metadata": {},
     "output_type": "execute_result"
    }
   ],
   "source": [
    "tknzr.tokenize(s5)"
   ]
  },
  {
   "cell_type": "code",
   "execution_count": 72,
   "id": "76fcec3f-bff1-45d8-adc0-bccb0fce356a",
   "metadata": {},
   "outputs": [],
   "source": [
    "tknzr = TweetTokenizer(strip_handles=True, reduce_len=True)"
   ]
  },
  {
   "cell_type": "code",
   "execution_count": 73,
   "id": "100bb2b2-56e0-4760-9f7a-180f807f9554",
   "metadata": {},
   "outputs": [],
   "source": [
    "s6 = '@remy: This is waaaaayyyy too much for you!!!!!!'"
   ]
  },
  {
   "cell_type": "code",
   "execution_count": 74,
   "id": "d8b12c89-9ec3-4dd5-8b60-f46dbb38ff67",
   "metadata": {},
   "outputs": [
    {
     "data": {
      "text/plain": [
       "[':', 'This', 'is', 'waaayyy', 'too', 'much', 'for', 'you', '!', '!', '!']"
      ]
     },
     "execution_count": 74,
     "metadata": {},
     "output_type": "execute_result"
    }
   ],
   "source": [
    "tknzr.tokenize(s6)"
   ]
  },
  {
   "cell_type": "code",
   "execution_count": 75,
   "id": "e0b2c3ba-16b4-4df4-bf53-02a1a13ca174",
   "metadata": {},
   "outputs": [],
   "source": [
    "s7 = '@_willy65: No place for @chuck tonight. Sorry.'"
   ]
  },
  {
   "cell_type": "code",
   "execution_count": 76,
   "id": "9936cab4-fa2f-4952-a127-ad5ff2a51741",
   "metadata": {},
   "outputs": [
    {
     "data": {
      "text/plain": [
       "[':', 'No', 'place', 'for', 'tonight', '.', 'Sorry', '.']"
      ]
     },
     "execution_count": 76,
     "metadata": {},
     "output_type": "execute_result"
    }
   ],
   "source": [
    "tknzr.tokenize(s7)"
   ]
  },
  {
   "cell_type": "code",
   "execution_count": 77,
   "id": "21cbb5f0-2156-46ce-8a57-87f4e40d2ad4",
   "metadata": {},
   "outputs": [],
   "source": [
    "tknzr = TweetTokenizer()"
   ]
  },
  {
   "cell_type": "code",
   "execution_count": 78,
   "id": "96531242-6c8a-4963-b3fd-c254a5cd8bfa",
   "metadata": {},
   "outputs": [],
   "source": [
    "sentences = [\n",
    "...     \"This is a cooool #dummysmiley: :-) :-P <3 and some arrows < > -> <--\",\n",
    "...     \"@jrmy: I'm REALLY HAPPYYY about that! NICEEEE :D :P\",\n",
    "...     \"@_willy65: No place for @chuck tonight. Sorry.\"\n",
    "... ]"
   ]
  },
  {
   "cell_type": "code",
   "execution_count": 79,
   "id": "c87e85b9-ac05-481f-b0fe-c0ac388e677f",
   "metadata": {},
   "outputs": [
    {
     "data": {
      "text/plain": [
       "[['This',\n",
       "  'is',\n",
       "  'a',\n",
       "  'cooool',\n",
       "  '#dummysmiley',\n",
       "  ':',\n",
       "  ':-)',\n",
       "  ':-P',\n",
       "  '<3',\n",
       "  'and',\n",
       "  'some',\n",
       "  'arrows',\n",
       "  '<',\n",
       "  '>',\n",
       "  '->',\n",
       "  '<--'],\n",
       " ['@jrmy',\n",
       "  ':',\n",
       "  \"I'm\",\n",
       "  'REALLY',\n",
       "  'HAPPYYY',\n",
       "  'about',\n",
       "  'that',\n",
       "  '!',\n",
       "  'NICEEEE',\n",
       "  ':D',\n",
       "  ':P'],\n",
       " ['@_willy65',\n",
       "  ':',\n",
       "  'No',\n",
       "  'place',\n",
       "  'for',\n",
       "  '@chuck',\n",
       "  'tonight',\n",
       "  '.',\n",
       "  'Sorry',\n",
       "  '.']]"
      ]
     },
     "execution_count": 79,
     "metadata": {},
     "output_type": "execute_result"
    }
   ],
   "source": [
    "tknzr.tokenize_sents(sentences)"
   ]
  },
  {
   "cell_type": "markdown",
   "id": "d04cc85d-8333-42d8-a00d-755ba3a52f02",
   "metadata": {},
   "source": [
    "# Regression Tests: PunktSentenceTokenizer"
   ]
  },
  {
   "cell_type": "code",
   "execution_count": 80,
   "id": "8830a053-585a-46ad-a8ea-2826eadda3d5",
   "metadata": {},
   "outputs": [],
   "source": [
    "from nltk.tokenize import PunktSentenceTokenizer"
   ]
  },
  {
   "cell_type": "code",
   "execution_count": 81,
   "id": "e6a384b2-5c3d-41fb-953b-f6e843ca8ccb",
   "metadata": {},
   "outputs": [],
   "source": [
    "pst = PunktSentenceTokenizer()"
   ]
  },
  {
   "cell_type": "code",
   "execution_count": 82,
   "id": "615cd93c-2c75-4352-a7a6-3007067a47c4",
   "metadata": {},
   "outputs": [
    {
     "data": {
      "text/plain": [
       "['See Section 3).', 'Or Section 2).']"
      ]
     },
     "execution_count": 82,
     "metadata": {},
     "output_type": "execute_result"
    }
   ],
   "source": [
    "pst.tokenize('See Section 3).  Or Section 2).  ')"
   ]
  },
  {
   "cell_type": "code",
   "execution_count": 83,
   "id": "0c43bd2b-ed90-4386-9392-d3c53400c845",
   "metadata": {},
   "outputs": [
    {
     "data": {
      "text/plain": [
       "['See Section 3.)', 'Or Section 2.)']"
      ]
     },
     "execution_count": 83,
     "metadata": {},
     "output_type": "execute_result"
    }
   ],
   "source": [
    "pst.tokenize('See Section 3.)  Or Section 2.)  ')"
   ]
  },
  {
   "cell_type": "code",
   "execution_count": 84,
   "id": "4e727b17-c67a-46e8-984a-8b3075796d34",
   "metadata": {},
   "outputs": [
    {
     "data": {
      "text/plain": [
       "['See Section 3.', ')  Or Section 2.', ')']"
      ]
     },
     "execution_count": 84,
     "metadata": {},
     "output_type": "execute_result"
    }
   ],
   "source": [
    "pst.tokenize('See Section 3.)  Or Section 2.)  ', realign_boundaries=False)"
   ]
  },
  {
   "cell_type": "markdown",
   "id": "85c79192-db1a-4fdf-b557-f094cb28b716",
   "metadata": {},
   "source": [
    "# Two instances of PunktSentenceTokenizer should not share PunktParameters."
   ]
  },
  {
   "cell_type": "code",
   "execution_count": 85,
   "id": "24e82027-5b12-4d82-baf1-1e0e8be61fe3",
   "metadata": {},
   "outputs": [],
   "source": [
    "pst = PunktSentenceTokenizer()"
   ]
  },
  {
   "cell_type": "code",
   "execution_count": 86,
   "id": "5677dcb4-12ee-4a5a-9623-bb567ad0b591",
   "metadata": {},
   "outputs": [],
   "source": [
    "pst2 = PunktSentenceTokenizer()"
   ]
  },
  {
   "cell_type": "code",
   "execution_count": 87,
   "id": "8c1b1954-57a2-4d0e-8857-ff7d3d83bc1f",
   "metadata": {},
   "outputs": [
    {
     "data": {
      "text/plain": [
       "False"
      ]
     },
     "execution_count": 87,
     "metadata": {},
     "output_type": "execute_result"
    }
   ],
   "source": [
    "pst._params is pst2._params"
   ]
  },
  {
   "cell_type": "markdown",
   "id": "de663615-7ce1-4f45-9334-b864772f199b",
   "metadata": {},
   "source": [
    "# Testing mutable default arguments"
   ]
  },
  {
   "cell_type": "code",
   "execution_count": 88,
   "id": "2e0caa58-10a1-41da-a1ce-bc98cf4dda55",
   "metadata": {},
   "outputs": [],
   "source": [
    "from nltk.tokenize.punkt import PunktBaseClass, PunktTrainer, PunktSentenceTokenizer"
   ]
  },
  {
   "cell_type": "code",
   "execution_count": 89,
   "id": "104687ce-57ed-4e18-8364-7e14dbfb1a3b",
   "metadata": {},
   "outputs": [],
   "source": [
    "from nltk.tokenize.punkt import PunktLanguageVars, PunktParameters"
   ]
  },
  {
   "cell_type": "code",
   "execution_count": 90,
   "id": "5c17ba70-f9e8-436e-a28e-0d90fbdb3f52",
   "metadata": {},
   "outputs": [],
   "source": [
    "pbc = PunktBaseClass(lang_vars = None, params = None)"
   ]
  },
  {
   "cell_type": "code",
   "execution_count": 91,
   "id": "dae6b964-566d-4d43-ac94-8630bed90f9b",
   "metadata": {},
   "outputs": [
    {
     "data": {
      "text/plain": [
       "nltk.tokenize.punkt.PunktParameters"
      ]
     },
     "execution_count": 91,
     "metadata": {},
     "output_type": "execute_result"
    }
   ],
   "source": [
    "type(pbc._params)"
   ]
  },
  {
   "cell_type": "code",
   "execution_count": 92,
   "id": "e6769666-1329-4cfc-9190-adcc397e6bf1",
   "metadata": {},
   "outputs": [
    {
     "data": {
      "text/plain": [
       "nltk.tokenize.punkt.PunktLanguageVars"
      ]
     },
     "execution_count": 92,
     "metadata": {},
     "output_type": "execute_result"
    }
   ],
   "source": [
    "type(pbc._lang_vars)"
   ]
  },
  {
   "cell_type": "code",
   "execution_count": 93,
   "id": "86ca9909-568d-49fe-b1bd-3b6e25bcc272",
   "metadata": {},
   "outputs": [],
   "source": [
    "pt = PunktTrainer(lang_vars = None)"
   ]
  },
  {
   "cell_type": "code",
   "execution_count": 94,
   "id": "eb6ce086-ee4d-4beb-9a71-049e2f30759c",
   "metadata": {},
   "outputs": [
    {
     "data": {
      "text/plain": [
       "nltk.tokenize.punkt.PunktLanguageVars"
      ]
     },
     "execution_count": 94,
     "metadata": {},
     "output_type": "execute_result"
    }
   ],
   "source": [
    "type(pt._lang_vars)"
   ]
  },
  {
   "cell_type": "code",
   "execution_count": 95,
   "id": "8bc80dcf-149b-4d53-a086-05b2b19486ea",
   "metadata": {},
   "outputs": [],
   "source": [
    "pst = PunktSentenceTokenizer(lang_vars=None)"
   ]
  },
  {
   "cell_type": "code",
   "execution_count": 96,
   "id": "4ce55821-b200-469b-a7f9-e506e80d4799",
   "metadata": {},
   "outputs": [
    {
     "data": {
      "text/plain": [
       "nltk.tokenize.punkt.PunktLanguageVars"
      ]
     },
     "execution_count": 96,
     "metadata": {},
     "output_type": "execute_result"
    }
   ],
   "source": [
    "type(pst._lang_vars)"
   ]
  },
  {
   "cell_type": "code",
   "execution_count": 97,
   "id": "e590a231-eee7-4d5d-b78d-ca26a6588a5f",
   "metadata": {},
   "outputs": [],
   "source": [
    "pst = PunktSentenceTokenizer(lang_vars=None)"
   ]
  },
  {
   "cell_type": "code",
   "execution_count": 98,
   "id": "801105f1-f3dc-45e2-88ac-7bb2a3cb5879",
   "metadata": {},
   "outputs": [
    {
     "data": {
      "text/plain": [
       "['.', 'This input starts with a dot.', 'This used to cause issues.']"
      ]
     },
     "execution_count": 98,
     "metadata": {},
     "output_type": "execute_result"
    }
   ],
   "source": [
    "pst.tokenize(\". This input starts with a dot. This used to cause issues.\")"
   ]
  },
  {
   "cell_type": "markdown",
   "id": "0b2cafa7-57e1-40c6-9ecd-c0875e68261d",
   "metadata": {},
   "source": [
    "# Regression Tests: align_tokens"
   ]
  },
  {
   "cell_type": "raw",
   "id": "39b669ca-1018-44ec-88a5-ffd634bd45dd",
   "metadata": {},
   "source": [
    "Post-hoc alignment of tokens with a source string"
   ]
  },
  {
   "cell_type": "code",
   "execution_count": 99,
   "id": "8831b5e2-ef6e-4e12-8c3c-b0452f94a0b0",
   "metadata": {},
   "outputs": [],
   "source": [
    "from nltk.tokenize.util import align_tokens"
   ]
  },
  {
   "cell_type": "code",
   "execution_count": 100,
   "id": "d6690e92-774f-4707-94db-0d6a7e67a2ab",
   "metadata": {},
   "outputs": [
    {
     "data": {
      "text/plain": [
       "[(0, 0)]"
      ]
     },
     "execution_count": 100,
     "metadata": {},
     "output_type": "execute_result"
    }
   ],
   "source": [
    "list(align_tokens([''],\"\"))"
   ]
  },
  {
   "cell_type": "code",
   "execution_count": 101,
   "id": "f09c3309-062f-4f27-bbc4-ff85aa6be164",
   "metadata": {},
   "outputs": [
    {
     "data": {
      "text/plain": [
       "[(0, 0)]"
      ]
     },
     "execution_count": 101,
     "metadata": {},
     "output_type": "execute_result"
    }
   ],
   "source": [
    "list(align_tokens([''], \" \"))"
   ]
  },
  {
   "cell_type": "code",
   "execution_count": 102,
   "id": "6252c1af-9f61-426d-ae37-7fe14795069a",
   "metadata": {},
   "outputs": [
    {
     "data": {
      "text/plain": [
       "[]"
      ]
     },
     "execution_count": 102,
     "metadata": {},
     "output_type": "execute_result"
    }
   ],
   "source": [
    "list(align_tokens([], \"\"))"
   ]
  },
  {
   "cell_type": "code",
   "execution_count": 103,
   "id": "8ceedf0d-c681-49b5-953a-29a85825f590",
   "metadata": {},
   "outputs": [
    {
     "data": {
      "text/plain": [
       "[]"
      ]
     },
     "execution_count": 103,
     "metadata": {},
     "output_type": "execute_result"
    }
   ],
   "source": [
    "list(align_tokens([], \" \"))"
   ]
  },
  {
   "cell_type": "code",
   "execution_count": 104,
   "id": "aabca990-d19c-43c1-a36f-a6f4642fc1b0",
   "metadata": {},
   "outputs": [
    {
     "data": {
      "text/plain": [
       "[(0, 1)]"
      ]
     },
     "execution_count": 104,
     "metadata": {},
     "output_type": "execute_result"
    }
   ],
   "source": [
    "list(align_tokens(['a'], \"a\"))"
   ]
  },
  {
   "cell_type": "code",
   "execution_count": 105,
   "id": "ac6c3e19-9c58-4077-a73d-f96b59231c27",
   "metadata": {},
   "outputs": [
    {
     "data": {
      "text/plain": [
       "[(0, 3), (3, 6)]"
      ]
     },
     "execution_count": 105,
     "metadata": {},
     "output_type": "execute_result"
    }
   ],
   "source": [
    "list(align_tokens(['abc', 'def'], \"abcdef\"))"
   ]
  },
  {
   "cell_type": "code",
   "execution_count": 106,
   "id": "6fff4f0b-1bc5-40be-921d-215c4c39a5ac",
   "metadata": {},
   "outputs": [
    {
     "data": {
      "text/plain": [
       "[(0, 3), (4, 7)]"
      ]
     },
     "execution_count": 106,
     "metadata": {},
     "output_type": "execute_result"
    }
   ],
   "source": [
    "list(align_tokens(['abc', 'def'], \"abc def\"))"
   ]
  },
  {
   "cell_type": "code",
   "execution_count": 107,
   "id": "c8804fa0-d41f-4c51-a4d4-94fdf94b7d0c",
   "metadata": {},
   "outputs": [
    {
     "data": {
      "text/plain": [
       "[(0, 2), (3, 5)]"
      ]
     },
     "execution_count": 107,
     "metadata": {},
     "output_type": "execute_result"
    }
   ],
   "source": [
    "list(align_tokens(['ab', 'cd'], \"ab cd ef\"))"
   ]
  },
  {
   "cell_type": "code",
   "execution_count": 108,
   "id": "2421a12f-5ecc-4be6-93c5-db156623181c",
   "metadata": {},
   "outputs": [
    {
     "data": {
      "text/plain": [
       "[(0, 2), (3, 5), (6, 8)]"
      ]
     },
     "execution_count": 108,
     "metadata": {},
     "output_type": "execute_result"
    }
   ],
   "source": [
    "list(align_tokens(['ab', 'cd', 'ef'], \"ab cd ef\"))"
   ]
  },
  {
   "cell_type": "markdown",
   "id": "340dc587-2fe5-4ef3-820b-129bf1a821ab",
   "metadata": {},
   "source": [
    "# Sentence tokenization in word_tokenize:"
   ]
  },
  {
   "cell_type": "code",
   "execution_count": 109,
   "id": "ca68d13e-b690-4ab9-80b0-c0d8c6eafcf8",
   "metadata": {},
   "outputs": [],
   "source": [
    "s11 = \"I called Dr. Jones. I called Dr. Jones.\""
   ]
  },
  {
   "cell_type": "code",
   "execution_count": 110,
   "id": "24a37e40-8027-4a1b-aeaa-99c6285ec11d",
   "metadata": {},
   "outputs": [
    {
     "data": {
      "text/plain": [
       "['I', 'called', 'Dr.', 'Jones', '.', 'I', 'called', 'Dr.', 'Jones', '.']"
      ]
     },
     "execution_count": 110,
     "metadata": {},
     "output_type": "execute_result"
    }
   ],
   "source": [
    "word_tokenize(s11)"
   ]
  },
  {
   "cell_type": "code",
   "execution_count": 111,
   "id": "b3527b47-0125-47f7-b8dc-b5cf0a3441ed",
   "metadata": {},
   "outputs": [],
   "source": [
    " s12 = (\"Ich muss unbedingt daran denken, Mehl, usw. fur einen \"\n",
    "...        \"Kuchen einzukaufen. Ich muss.\")"
   ]
  },
  {
   "cell_type": "code",
   "execution_count": 112,
   "id": "166bf7f1-d2eb-46f0-956f-d83e9d2bd65a",
   "metadata": {},
   "outputs": [
    {
     "data": {
      "text/plain": [
       "['Ich',\n",
       " 'muss',\n",
       " 'unbedingt',\n",
       " 'daran',\n",
       " 'denken',\n",
       " ',',\n",
       " 'Mehl',\n",
       " ',',\n",
       " 'usw',\n",
       " '.',\n",
       " 'fur',\n",
       " 'einen',\n",
       " 'Kuchen',\n",
       " 'einzukaufen',\n",
       " '.',\n",
       " 'Ich',\n",
       " 'muss',\n",
       " '.']"
      ]
     },
     "execution_count": 112,
     "metadata": {},
     "output_type": "execute_result"
    }
   ],
   "source": [
    "word_tokenize(s12)"
   ]
  },
  {
   "cell_type": "code",
   "execution_count": 113,
   "id": "df33de9c-946a-42dc-bd5a-0414c2b5942c",
   "metadata": {},
   "outputs": [
    {
     "data": {
      "text/plain": [
       "['Ich',\n",
       " 'muss',\n",
       " 'unbedingt',\n",
       " 'daran',\n",
       " 'denken',\n",
       " ',',\n",
       " 'Mehl',\n",
       " ',',\n",
       " 'usw.',\n",
       " 'fur',\n",
       " 'einen',\n",
       " 'Kuchen',\n",
       " 'einzukaufen',\n",
       " '.',\n",
       " 'Ich',\n",
       " 'muss',\n",
       " '.']"
      ]
     },
     "execution_count": 113,
     "metadata": {},
     "output_type": "execute_result"
    }
   ],
   "source": [
    "word_tokenize(s12, 'german')"
   ]
  },
  {
   "cell_type": "code",
   "execution_count": null,
   "id": "198cda90-9be1-4e38-adc1-a48226926873",
   "metadata": {},
   "outputs": [],
   "source": []
  }
 ],
 "metadata": {
  "kernelspec": {
   "display_name": "Python 3 (ipykernel)",
   "language": "python",
   "name": "python3"
  },
  "language_info": {
   "codemirror_mode": {
    "name": "ipython",
    "version": 3
   },
   "file_extension": ".py",
   "mimetype": "text/x-python",
   "name": "python",
   "nbconvert_exporter": "python",
   "pygments_lexer": "ipython3",
   "version": "3.12.4"
  }
 },
 "nbformat": 4,
 "nbformat_minor": 5
}
